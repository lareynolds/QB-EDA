{
 "cells": [
  {
   "cell_type": "markdown",
   "id": "6b40284f-00ab-4aae-a522-69e19410f2b2",
   "metadata": {},
   "source": [
    "# Navigating the Data Landscape: The Art of Data Exploration\n",
    "\n",
    "## Recap\n",
    "Well, well, well! Looks like we've embarked on quite the adventure here! Our first task was to get to the bottom of the burning question: \"Do quarterbacks of color get the short end of the stick when it comes to roughing the passer penalties compared to their fair-skinned counterparts?\" Exciting stuff, huh?\n",
    "\n",
    "The next step in our journey involved gathering the all-important data. We needed to make sure we were dealing with top-notch, premium-quality data. None of that shady, questionable stuff for us! We demanded data that was reliable, traceable, and oh-so-accurate. Because in the world of data science, it's all about that golden rule: \"garbage in, garbage out!\" Can't have our analysis going awry now, can we?\n",
    "\n",
    "For this particular project, we scoured the depths of NFL Penalties and even tapped into the vast knowledge reserves of the mighty Wikipedia. We left no stone unturned, my friend!\n",
    "\n",
    "Now, onto the thrilling next stage of our expedition – data cleaning and reshaping! Brace yourself, because this is where things get spicy. We had to create a nifty variable to indicate the race of those quarterbacks. Easy-peasy, right? Well, almost. Turns out, we stumbled upon a little naming convention conundrum that resulted in a sneaky duplicate value. But fear not! With our eagle-eyed attention to detail, we swiftly detected and corrected that pesky error. Crisis averted!\n",
    "\n",
    "And now, dear explorer, we venture forth to the exhilarating realm of Data Exploration. Excited? You should be! There's so much more to discover and uncover on this grand data-driven expedition! So, buckle up and get ready for the thrill ride ahead! Let's dive into the vast ocean of information and see what fascinating insights await us!\n",
    "\n",
    "Data exploration is an essential step in the data analysis process. It allows us to gain an initial understanding of the dataset by examining its general properties and characteristics. By delving into the data, we can uncover valuable insights.\n",
    "\n",
    "One of the key aspects of data exploration involves assessing the size of the dataset. This includes understanding the number of observations or records and the number of variables or features present in the dataset. Knowing the scope of the dataset helps us gauge its comprehensiveness and potential usefulness for our analysis.\n",
    "\n",
    "Furthermore, examining the data types is crucial in data exploration. By identifying the types of data contained in the dataset, such as numerical, categorical, or textual, we can determine the appropriate statistical techniques or visualization methods to apply during analysis. This enables us to make accurate interpretations and draw meaningful conclusions from the data.\n",
    "\n",
    "Another crucial aspect is the identification of initial patterns or trends within the dataset. Exploring the data can reveal inherent relationships, correlations, or anomalies that may exist. By uncovering these patterns, we can develop hypotheses, generate insights, and pose relevant research questions for further investigation.\n",
    "\n",
    "You may have noticed that I talk about using Python a lot in my work. I actually prefer to use in my day job since it seems to get the most use and support from other data professionals. However, for this portion of my project, I'm going to be using R instead. It has been some time since I've used R (maybe before I even finished my master's program) so full discloser, I'm pretty sure I had to look up most of that I'm doing to refresh my memory. But since it is a language, if you don't use it, you lose it, so I'm going to shake things up a bit and revisit R."
   ]
  },
  {
   "cell_type": "markdown",
   "id": "58fbf448-c9fd-43bb-99bc-69c2582caeac",
   "metadata": {},
   "source": [
    "## Data Exploration\n",
    "The first thing I need to do is load in any packages I need. For now, I need to load a library that will let me read in the cleaned Excel file created in my last post as my data set."
   ]
  },
  {
   "cell_type": "code",
   "execution_count": 20,
   "id": "d8285be7-19d7-4ca5-bcb7-ed56e9a31eb6",
   "metadata": {},
   "outputs": [],
   "source": [
    "library(openxlsx)"
   ]
  },
  {
   "cell_type": "code",
   "execution_count": 53,
   "id": "96964903-7c8a-4fe1-8ff9-d23e59fd2515",
   "metadata": {},
   "outputs": [],
   "source": [
    "# import and store the dataset\n",
    "qbs = read.xlsx(\"https://myordinaryjourney.com/wp-content/uploads/2023/09/cleaned_qbs.xlsx\")"
   ]
  },
  {
   "cell_type": "code",
   "execution_count": 55,
   "id": "3515d930-d7d6-475f-93fb-884cecc6ce31",
   "metadata": {},
   "outputs": [
    {
     "name": "stdout",
     "output_type": "stream",
     "text": [
      "             Player Total 2009 2010 2011 2012 2013 2014 2015 2016 2017 2018\n",
      "1          A.Dalton    25    0    0    4    1    1    5    0    1    1    1\n",
      "2            A.Luck    17    0    0    0    5    3    4    1    1    0    3\n",
      "3         A.Rodgers    41    3    3    3    5    2    2    5    4    0    1\n",
      "4           A.Smith    23    1    1    1    1    1    6    4    1    5    2\n",
      "5         B.Bortles    12    0    0    0    0    0    1    2    1    7    1\n",
      "6         B.Gabbert     9    0    0    2    1    0    0    2    1    1    0\n",
      "7           B.Hoyer     6    1    1    0    0    0    1    1    0    1    0\n",
      "8        B.Mayfield    18    0    0    0    0    0    0    0    0    0    3\n",
      "9        B.Osweiler     2    0    0    0    0    0    0    1    0    0    1\n",
      "10 B.Roethlisberger    30    3    0    3    1    1    4    2    1    3    4\n",
      "11          C.Henne     9    1    2    2    1    2    0    0    0    0    0\n",
      "12     C.Kaepernick     6    0    0    0    3    1    1    0    1    0    0\n",
      "13         C.Keenum    12    0    0    0    0    0    0    1    1    4    3\n",
      "14          C.McCoy     7    0    1    5    0    0    0    0    0    0    0\n",
      "15         C.Newton    35    0    0    8    6    2    6    0    2    3    3\n",
      "16         C.Palmer    26    2    4    3    5    3    3    2    2    2    0\n",
      "17          C.Wentz    30    0    0    0    0    0    0    0    4    1    6\n",
      "18          D.Brees    32    3    4    0    1    3    1    7    6    3    1\n",
      "19           D.Carr    21    0    0    0    0    0    2    4    1    1    2\n",
      "20          D.Jones     7    0    0    0    0    0    0    0    0    0    0\n",
      "21       D.Prescott    19    0    0    0    0    0    0    0    3    2    3\n",
      "22         D.Watson    13    0    0    0    0    0    0    0    0    4    2\n",
      "23        E.Manning    17    2    1    3    1    0    2    4    2    1    1\n",
      "24          G.Smith    11    0    0    0    0    1    2    0    0    0    0\n",
      "25          J.Allen    26    0    0    0    0    0    0    0    0    0    3\n",
      "26       J.Brissett    14    0    0    0    0    0    0    0    0    4    0\n",
      "27         J.Burrow     7    0    0    0    0    0    0    0    0    0    0\n",
      "28       J.Campbell     5    0    4    0    0    1    0    0    0    0    0\n",
      "29         J.Cutler    30    3    5    6    2    1    4    3    1    5    0\n",
      "30         J.Flacco    23    1    0    1    2    2    4    1    6    2    1\n",
      "31        J.Freeman     5    0    0    3    2    0    0    0    0    0    0\n",
      "32      J.Garoppolo    16    0    0    0    0    0    0    0    1    1    1\n",
      "33           J.Goff    30    0    0    0    0    0    0    0    2    1    3\n",
      "34        J.Herbert    12    0    0    0    0    0    0    0    0    0    0\n",
      "35          J.Hurts     3    0    0    0    0    0    0    0    0    0    0\n",
      "36         J.McCown    19    0    0    0    0    6    3    3    1    5    1\n",
      "37        J.Winston    16    0    0    0    0    0    0    5    1    2    2\n",
      "38        K.Cousins    39    0    0    0    0    0    0    4    6    4    5\n",
      "39         K.Murray     6    0    0    0    0    0    0    0    0    0    0\n",
      "40          K.Orton    11    2    3    3    0    0    3    0    0    0    0\n",
      "41        L.Jackson    12    0    0    0    0    0    0    0    0    0    1\n",
      "42         M.Cassel     8    1    2    1    1    1    1    1    0    0    0\n",
      "43     M.Hasselbeck     8    1    1    1    1    0    0    4    0    0    0\n",
      "44        M.Mariota    18    0    0    0    0    0    0    4    3    5    0\n",
      "45          M.Moore     4    1    1    0    1    0    0    0    1    0    0\n",
      "46           M.Ryan    57    2    4    5    2    8    1    1    3    2    5\n",
      "47        M.Sanchez     9    1    2    3    1    0    1    1    0    0    0\n",
      "48         M.Schaub     9    1    1    1    4    1    1    0    0    0    0\n",
      "49       M.Stafford    41    1    1    3    3    4    4    2    2    2    4\n",
      "50       M.Trubisky    14    0    0    0    0    0    0    0    0    3    7\n",
      "51           M.Vick    14    0    3    4    5    0    1    1    0    0    0\n",
      "52          N.Foles    17    0    0    0    1    2    3    2    0    0    4\n",
      "53        P.Mahomes    20    0    0    0    0    0    0    0    0    0    4\n",
      "54        P.Manning     5    3    0    0    1    0    1    0    0    0    0\n",
      "55         P.Rivers    22    3    1    2    4    1    0    3    1    1    4\n",
      "56    R.Fitzpatrick    52    4    3    3    5    8    2    2    5    1    7\n",
      "57    R.Griffin III    16    0    0    0    4    1    7    0    3    0    0\n",
      "58      R.Tannehill    39    0    0    0    6    1    6    4    3    0    2\n",
      "59         R.Wilson    40    0    0    0    2    5    1    2    3    4    6\n",
      "60       S.Bradford    24    0    6    2    3    3    0    5    5    0    0\n",
      "61        S.Darnold     9    0    0    0    0    0    0    0    0    0    2\n",
      "62          T.Brady    35    5    1    1    2    2    2    5    3    3    4\n",
      "63    T.Bridgewater    15    0    0    0    0    0    2    5    0    0    0\n",
      "64           T.Hill     2    0    0    0    0    0    0    0    0    0    0\n",
      "65           T.Romo     7    1    0    1    0    4    1    0    0    0    0\n",
      "66         T.Taylor     7    0    0    0    0    0    0    2    3    2    0\n",
      "   2019 2020 2021 2022 2023 Games Per.Game Attempts Per.100.Att Sacked Per.Sack\n",
      "1     6    0    3    2    0   170     0.15     5557        0.45    361    0.069\n",
      "2     0    0    0    0    0    94     0.18     3620        0.47    186    0.091\n",
      "3     3    2    5    3    0   228     0.18     7840        0.52    542    0.076\n",
      "4     0    0    0    0    0   149     0.15     4648        0.49    367    0.063\n",
      "5     0    0    0    0    0    79     0.15     2719        0.44    201    0.060\n",
      "6     0    1    1    0    0    62     0.15     1534        0.59    139    0.065\n",
      "7     1    0    0    0    0    60     0.10     1554        0.39     92    0.065\n",
      "8     4    4    5    2    0    74     0.24     2330        0.77    171    0.105\n",
      "9     0    0    0    0    0    44     0.05     1230        0.16     84    0.024\n",
      "10    0    2    6    0    0   190     0.16     7035        0.43    395    0.076\n",
      "11    0    0    0    1    0    70     0.13     2018        0.45    154    0.058\n",
      "12    0    0    0    0    0    71     0.08     1856        0.32    182    0.033\n",
      "13    3    0    0    0    0    74     0.16     2267        0.53    130    0.092\n",
      "14    0    0    0    1    0    45     0.16     1220        0.57    114    0.061\n",
      "15    0    5    0    0    0   153     0.23     4699        0.74    356    0.098\n",
      "16    0    0    0    0    0   120     0.22     4239        0.61    240    0.108\n",
      "17    7    5    5    2    0    94     0.32     3289        0.91    240    0.125\n",
      "18    0    3    0    0    0   195     0.16     7490        0.43    309    0.104\n",
      "19    2    2    5    1    1   144     0.15     5013        0.42    267    0.079\n",
      "20    1    2    3    1    0    56     0.13     1802        0.39    159    0.044\n",
      "21    5    2    2    2    0   103     0.18     3500        0.54    208    0.091\n",
      "22    6    0    0    1    0    63     0.21     2045        0.64    208    0.063\n",
      "23    0    0    0    0    0   168     0.10     6040        0.28    307    0.055\n",
      "24    0    0    2    5    1    61     0.18     1613        0.68    145    0.076\n",
      "25    5   11    4    3    0    85     0.31     2880        0.90    172    0.151\n",
      "26    3    0    3    4    0    63     0.22     1579        0.89    129    0.109\n",
      "27    0    1    3    3    0    49     0.14     1783        0.39    154    0.045\n",
      "28    0    0    0    0    0    52     0.10     1387        0.36    105    0.048\n",
      "29    0    0    0    0    0   118     0.25     3743        0.80    277    0.108\n",
      "30    2    1    0    0    0   179     0.13     6245        0.37    373    0.062\n",
      "31    0    0    0    0    0    62     0.08     2051        0.24    111    0.045\n",
      "32    5    2    4    2    0    72     0.22     1859        0.86    130    0.123\n",
      "33    6    5    7    6    0   106     0.28     3701        0.81    202    0.149\n",
      "34    0    8    1    3    0    50     0.24     2011        0.60    104    0.115\n",
      "35    0    1    0    2    0    42     0.07     1170        0.26     82    0.037\n",
      "36    0    0    0    0    0    55     0.35     1606        1.18    148    0.128\n",
      "37    3    0    3    0    0    85     0.19     2837        0.56    196    0.082\n",
      "38    3    7    5    5    0   147     0.27     5022        0.78    304    0.128\n",
      "39    3    0    3    0    0    58     0.10     2006        0.30    133    0.045\n",
      "40    0    0    0    0    0    53     0.21     1799        0.61    107    0.103\n",
      "41    6    0    4    1    0    70     0.17     1793        0.67    152    0.079\n",
      "42    0    0    0    0    0    76     0.11     2148        0.37    164    0.049\n",
      "43    0    0    0    0    0    68     0.12     2064        0.39    116    0.069\n",
      "44    3    0    0    3    0    82     0.22     2165        0.83    194    0.093\n",
      "45    0    0    0    0    0    43     0.09     1000        0.40     85    0.047\n",
      "46    6    7   10    1    0   227     0.25     8332        0.68    492    0.116\n",
      "47    0    0    0    0    0    83     0.11     2475        0.36    174    0.052\n",
      "48    0    0    0    0    0    80     0.11     2607        0.35    131    0.069\n",
      "49    3    5    5    2    0   198     0.21     7385        0.56    461    0.089\n",
      "50    2    0    0    2    0    63     0.22     1837        0.76    125    0.112\n",
      "51    0    0    0    0    0    61     0.23     1527        0.92    133    0.105\n",
      "52    1    3    1    0    0    74     0.23     2301        0.74    133    0.128\n",
      "53    5    4    5    2    0    94     0.21     3520        0.57    151    0.132\n",
      "54    0    0    0    0    0   102     0.05     3884        0.13    118    0.042\n",
      "55    0    2    0    0    0   198     0.11     6919        0.32    399    0.055\n",
      "56   10    2    0    0    0   147     0.35     4555        1.14    257    0.202\n",
      "57    1    0    0    0    0    54     0.30     1289        1.24    133    0.120\n",
      "58    1    5    7    4    0   149     0.26     4638        0.84    391    0.100\n",
      "59    6    3    4    4    0   189     0.21     5669        0.71    533    0.075\n",
      "60    0    0    0    0    0    83     0.29     2968        0.81    197    0.122\n",
      "61    4    0    3    0    0    56     0.16     1764        0.51    143    0.063\n",
      "62    0    4    1    2    0   253     0.14     9725        0.36    414    0.085\n",
      "63    1    2    5    0    0    74     0.20     2092        0.72    169    0.089\n",
      "64    0    1    0    1    0    43     0.05      289        0.69     26    0.077\n",
      "65    0    0    0    0    0    93     0.08     3148        0.22    203    0.034\n",
      "66    0    0    0    0    0    66     0.11     1589        0.44    162    0.043\n",
      "   Sack.Per.Att Third.Down.% qboc\n",
      "1         0.065        40.00    0\n",
      "2         0.051        29.41    0\n",
      "3         0.069        39.02    0\n",
      "4         0.079        26.09    0\n",
      "5         0.074        33.33    0\n",
      "6         0.091        11.11    0\n",
      "7         0.059         0.00    0\n",
      "8         0.073        33.33    0\n",
      "9         0.068         0.00    0\n",
      "10        0.056        20.00    0\n",
      "11        0.076        77.78    0\n",
      "12        0.098        16.67    1\n",
      "13        0.057        33.33    0\n",
      "14        0.093        14.29    0\n",
      "15        0.076        25.71    1\n",
      "16        0.057        30.77    0\n",
      "17        0.073        36.67    0\n",
      "18        0.041        40.63    0\n",
      "19        0.053        52.38    0\n",
      "20        0.088        14.29    0\n",
      "21        0.059        26.32    1\n",
      "22        0.102        38.46    1\n",
      "23        0.051        29.41    0\n",
      "24        0.090        27.27    1\n",
      "25        0.060        30.77    0\n",
      "26        0.082        50.00    1\n",
      "27        0.086        14.29    0\n",
      "28        0.076        40.00    1\n",
      "29        0.074        26.67    0\n",
      "30        0.060        26.09    0\n",
      "31        0.054        40.00    1\n",
      "32        0.070        25.00    0\n",
      "33        0.055        20.00    0\n",
      "34        0.052        33.33    0\n",
      "35        0.070        33.33    1\n",
      "36        0.092        42.11    0\n",
      "37        0.069        25.00    1\n",
      "38        0.061        35.90    0\n",
      "39        0.066        50.00    1\n",
      "40        0.059        27.27    0\n",
      "41        0.085         8.33    1\n",
      "42        0.076         0.00    0\n",
      "43        0.056        62.50    0\n",
      "44        0.090        27.78    0\n",
      "45        0.085        50.00    0\n",
      "46        0.059        29.82    0\n",
      "47        0.070        22.22    0\n",
      "48        0.050        33.33    0\n",
      "49        0.062        39.02    0\n",
      "50        0.068        42.86    0\n",
      "51        0.087        21.43    1\n",
      "52        0.058        41.18    0\n",
      "53        0.043        25.00    1\n",
      "54        0.030        20.00    0\n",
      "55        0.058        31.82    0\n",
      "56        0.056        23.08    0\n",
      "57        0.103        37.50    1\n",
      "58        0.084        30.77    0\n",
      "59        0.094        25.00    1\n",
      "60        0.066        37.50    0\n",
      "61        0.081        22.22    0\n",
      "62        0.043        25.71    0\n",
      "63        0.081        46.67    1\n",
      "64        0.090        50.00    0\n",
      "65        0.064        42.86    0\n",
      "66        0.102        42.86    1\n"
     ]
    }
   ],
   "source": [
    "print(qbs)"
   ]
  },
  {
   "cell_type": "markdown",
   "id": "378fea79-4191-4f94-9db7-bfd779970203",
   "metadata": {},
   "source": [
    "Looking over the raw data, it is hard to see any particular patterns in the data. However, a few data points do jump out as they are either larger or smaller than the data around the point. For example, the number of RTP penalties called each year numbers in the single digits with the exception of 2020 for the quarterback Josh Allen. That year he received 11 RTP called in his favor. Another example is the number of sacks recorded against Taysom Hill. Most of the QBs have a sack count in the triple digits, while only a few have double digit sack counts and Hill has the lowest of any QB in the data set. The next thing I want to do is check how many records are in my table and the total number of variables. It is helpful to know what your sample size is so you can select the correct analytic approach later on."
   ]
  },
  {
   "cell_type": "markdown",
   "id": "ce2f7418-0268-4588-baf5-d18ee8cd4299",
   "metadata": {},
   "source": [
    "The next thing I want to do is check how many records are in my table. It is helpful to know what your sample size is so that you can select the correct analytic approach."
   ]
  },
  {
   "cell_type": "code",
   "execution_count": 34,
   "id": "5218146c-74f4-466a-a339-2861ecc02a8c",
   "metadata": {},
   "outputs": [
    {
     "data": {
      "text/html": [
       "66"
      ],
      "text/latex": [
       "66"
      ],
      "text/markdown": [
       "66"
      ],
      "text/plain": [
       "[1] 66"
      ]
     },
     "metadata": {},
     "output_type": "display_data"
    }
   ],
   "source": [
    "nrow(qbs)"
   ]
  },
  {
   "cell_type": "code",
   "execution_count": 35,
   "id": "3328d606-d380-431e-a992-03bac9753ff0",
   "metadata": {},
   "outputs": [
    {
     "data": {
      "text/html": [
       "26"
      ],
      "text/latex": [
       "26"
      ],
      "text/markdown": [
       "26"
      ],
      "text/plain": [
       "[1] 26"
      ]
     },
     "metadata": {},
     "output_type": "display_data"
    }
   ],
   "source": [
    "length(qbs)"
   ]
  },
  {
   "cell_type": "markdown",
   "id": "39da249f-8300-4fa3-bb5a-ef537ab3cd92",
   "metadata": {},
   "source": [
    "The next step is to understand the data types of each of the variables. Luckily, when the head of the table was printed, it also included that data types for each of the variables. In our cleaned_qbs table, we have one variable with a character data type (Player) and 25 variables with the data type of 'dbl', otherwise known float."
   ]
  },
  {
   "cell_type": "markdown",
   "id": "9a2b98cb-d35d-40a3-8286-3d6a27ca4f2c",
   "metadata": {},
   "source": [
    "## Next Steps\n",
    "Now that we understand how much and what kind of data we have, we can develop a game plan on what analytic techniques we can take in the next step. With Univariate Analysis, Bivariate Analysis, and Multivariate Analysis we will begin to explore the data and any relationships between the variables that might exist. This will get us closer to a possible answer to our original question."
   ]
  },
  {
   "cell_type": "code",
   "execution_count": null,
   "id": "480a90a3-5a8e-4687-893f-112a7d738892",
   "metadata": {},
   "outputs": [],
   "source": []
  }
 ],
 "metadata": {
  "kernelspec": {
   "display_name": "R",
   "language": "R",
   "name": "ir"
  },
  "language_info": {
   "codemirror_mode": "r",
   "file_extension": ".r",
   "mimetype": "text/x-r-source",
   "name": "R",
   "pygments_lexer": "r",
   "version": "4.1.3"
  }
 },
 "nbformat": 4,
 "nbformat_minor": 5
}
