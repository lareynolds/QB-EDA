{
 "cells": [
  {
   "cell_type": "markdown",
   "id": "ff6406f3-a48b-4186-85dc-7c2adc7fac5d",
   "metadata": {},
   "source": [
    "## Data Exploration\n",
    "Let's recap where we are in this process. The first step was to determine the problem. For this project the question is, \"Do quarterbacks of color benefit less from roughing the passer penalties than their white counterparts?\" Next comes the data collection. It is important to make sure that the data used is high quality. This means that it should be reliable, traceable, and verified as accurate. In data science, the saying, \"garbage in, garbage out,\" sums up how the data itself can influence the analysis process and the end results of the study. For this project the data was obtained from NFL Penalties and Wikipedia. The next step in the process is data cleaning and reshaping. For this project I needed to create a variable to indicate the race of the quarterbacks. Although the data sets were comprehensive with not null values, when creating the new variable, there was a mistake because the naming convention of the original data set created a duplicate value that was incorrectly interpreted. However, this error was detected by a manual examination of the new variable and then corrected. Now we come to the next step in the process, Data Exploration.\n",
    "\n",
    "Data exploration consists of examining the general properties of the dataset. This includes checking the number of observations and variables, understanding the data types, and identifying any initial patterns or trends."
   ]
  },
  {
   "cell_type": "code",
   "execution_count": null,
   "id": "afbd0eeb-82d6-4e91-a814-a058f91aefca",
   "metadata": {},
   "outputs": [],
   "source": []
  }
 ],
 "metadata": {
  "kernelspec": {
   "display_name": "Python 3 (ipykernel)",
   "language": "python",
   "name": "python3"
  },
  "language_info": {
   "codemirror_mode": {
    "name": "ipython",
    "version": 3
   },
   "file_extension": ".py",
   "mimetype": "text/x-python",
   "name": "python",
   "nbconvert_exporter": "python",
   "pygments_lexer": "ipython3",
   "version": "3.9.18"
  }
 },
 "nbformat": 4,
 "nbformat_minor": 5
}
