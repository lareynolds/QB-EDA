{
  "cells": [
    {
      "cell_type": "markdown",
      "metadata": {
        "id": "view-in-github",
        "colab_type": "text"
      },
      "source": [
        "<a href=\"https://colab.research.google.com/github/lareynolds/QB-EDA/blob/main/qb_eda_project_google.ipynb\" target=\"_parent\"><img src=\"https://colab.research.google.com/assets/colab-badge.svg\" alt=\"Open In Colab\"/></a>"
      ]
    },
    {
      "cell_type": "markdown",
      "source": [
        "#Starting to Use Notebooks\n",
        "I haven't used a Jupyter Notebook to code in a very long time. I usually use the Spyder IDE as I can see all my variables' values at the same time. The first step is to import the different libraries that I think I'll need."
      ],
      "metadata": {
        "id": "QBGA_uOBrLB2"
      }
    },
    {
      "cell_type": "code",
      "execution_count": null,
      "metadata": {
        "id": "XuPwN8q2uAyE"
      },
      "outputs": [],
      "source": [
        "import pandas as pd\n",
        "import openpyxl"
      ]
    },
    {
      "cell_type": "markdown",
      "metadata": {
        "id": "7cR88iqLu2tP"
      },
      "source": [
        "Next I will import the data sets."
      ]
    },
    {
      "cell_type": "code",
      "execution_count": null,
      "metadata": {
        "id": "EqygCwObucj7"
      },
      "outputs": [],
      "source": [
        "qbs = pd.read_excel('https://myordinaryjourney.com/wp-content/uploads/2023/09/QB_Table-1.xlsx', engine='openpyxl')\n",
        "qbs_oc = pd.read_excel('https://myordinaryjourney.com/wp-content/uploads/2023/09/QB_Table-2.xlsx', engine='openpyxl')"
      ]
    },
    {
      "cell_type": "markdown",
      "metadata": {
        "id": "ntJtTr9QvtfF"
      },
      "source": [
        "Make sure to verfy the data has been loaded by viewing a few rows from each dataframe. If you are wondering what the '\\n' mmeans, it is the regular expression for a new line. It creates some extra space between the table headings and the table data to make them more readable. Dataquest has a great quick guide and cheat sheet available [here](https://www.dataquest.io/blog/regex-cheatsheet/)."
      ]
    },
    {
      "cell_type": "code",
      "execution_count": null,
      "metadata": {
        "colab": {
          "base_uri": "https://localhost:8080/"
        },
        "id": "RP7x6atNv1ct",
        "outputId": "0f3c337a-0c6a-4ec4-e343-cc4c60284199"
      },
      "outputs": [
        {
          "name": "stdout",
          "output_type": "stream",
          "text": [
            "Quarterback Stats table:\n",
            "       Player  Total  2009  2010  2011  2012  2013  2014  2015  2016  ...  \\\n",
            "0   A.Dalton     25     0     0     4     1     1     5     0     1  ...   \n",
            "1     A.Luck     17     0     0     0     5     3     4     1     1  ...   \n",
            "2  A.Rodgers     41     3     3     3     5     2     2     5     4  ...   \n",
            "3    A.Smith     23     1     1     1     1     1     6     4     1  ...   \n",
            "4  B.Bortles     12     0     0     0     0     0     1     2     1  ...   \n",
            "\n",
            "   2022  2023  Games  Per Game  Attempts  Per 100 Att  Sacked  Per Sack  \\\n",
            "0     2     0    170      0.15      5557         0.45     361     0.069   \n",
            "1     0     0     94      0.18      3620         0.47     186     0.091   \n",
            "2     3     0    228      0.18      7840         0.52     542     0.076   \n",
            "3     0     0    149      0.15      4648         0.49     367     0.063   \n",
            "4     0     0     79      0.15      2719         0.44     201     0.060   \n",
            "\n",
            "   Sack Per Att  Third Down %  \n",
            "0         0.065         40.00  \n",
            "1         0.051         29.41  \n",
            "2         0.069         39.02  \n",
            "3         0.079         26.09  \n",
            "4         0.074         33.33  \n",
            "\n",
            "[5 rows x 25 columns] \n",
            "\n",
            "Quarterback of Color table:\n",
            "          Quarterback    short_name Years active  \\\n",
            "0      Fritz Pollard     F.Pollard    1920–1926   \n",
            "1        Joe Lillard     J.Lillard    1932–1933   \n",
            "2  George Taliaferro  G.Taliaferro    1950–1955   \n",
            "3     Marlin Briscoe     M.Briscoe        1968*   \n",
            "4       James Harris      J.Harris    1969–1981   \n",
            "\n",
            "                                                Team  \n",
            "0  Akron Pros, Milwaukee Badgers, Hammond Pros, P...  \n",
            "1                                  Chicago Cardinals  \n",
            "2  New York Yanks, Dallas Texans, Baltimore Colts...  \n",
            "3                                     Denver Broncos  \n",
            "4  Buffalo Bills, Los Angeles Rams, San Diego Cha...  \n"
          ]
        }
      ],
      "source": [
        "print('Quarterback Stats table:\\n', qbs.head(), '\\n')\n",
        "print('Quarterback of Color table:\\n', qbs_oc.head())"
      ]
    },
    {
      "cell_type": "markdown",
      "metadata": {
        "id": "Qr5R0kzqv9Wm"
      },
      "source": [
        "## Smushing the Data Together"
      ]
    },
    {
      "cell_type": "markdown",
      "metadata": {
        "id": "EmLZ3z9mid2N"
      },
      "source": [
        "Now that the two initial datasets have been read into Pandas dataframes, it's time to smush them together in a way that makes them usefull for further analysis. The first step I take is adding a new variable to the Quarterback Stats Table (qbs) called 'qboc'. I set all the values to 0 for right now."
      ]
    },
    {
      "cell_type": "code",
      "execution_count": null,
      "metadata": {
        "id": "_RZk1z-wid2N"
      },
      "outputs": [],
      "source": [
        "qbs['qboc'] = 0"
      ]
    },
    {
      "cell_type": "markdown",
      "metadata": {
        "id": "TCpma4bsid2N"
      },
      "source": [
        "Once again check to make sure the variable was added to the dataframe as expected."
      ]
    },
    {
      "cell_type": "code",
      "execution_count": null,
      "metadata": {
        "id": "veJOZ5fSid2N",
        "outputId": "eaf1e56f-719c-4d72-c704-55fd0608da72"
      },
      "outputs": [
        {
          "name": "stdout",
          "output_type": "stream",
          "text": [
            "      Player  Total  2009  2010  2011  2012  2013  2014  2015  2016  ...  \\\n",
            "0   A.Dalton     25     0     0     4     1     1     5     0     1  ...   \n",
            "1     A.Luck     17     0     0     0     5     3     4     1     1  ...   \n",
            "2  A.Rodgers     41     3     3     3     5     2     2     5     4  ...   \n",
            "3    A.Smith     23     1     1     1     1     1     6     4     1  ...   \n",
            "4  B.Bortles     12     0     0     0     0     0     1     2     1  ...   \n",
            "\n",
            "   2023  Games  Per Game  Attempts  Per 100 Att  Sacked  Per Sack  \\\n",
            "0     0    170      0.15      5557         0.45     361     0.069   \n",
            "1     0     94      0.18      3620         0.47     186     0.091   \n",
            "2     0    228      0.18      7840         0.52     542     0.076   \n",
            "3     0    149      0.15      4648         0.49     367     0.063   \n",
            "4     0     79      0.15      2719         0.44     201     0.060   \n",
            "\n",
            "   Sack Per Att  Third Down %  qboc  \n",
            "0         0.065         40.00     0  \n",
            "1         0.051         29.41     0  \n",
            "2         0.069         39.02     0  \n",
            "3         0.079         26.09     0  \n",
            "4         0.074         33.33     0  \n",
            "\n",
            "[5 rows x 26 columns]\n"
          ]
        }
      ],
      "source": [
        "print(qbs.head())"
      ]
    },
    {
      "cell_type": "markdown",
      "metadata": {
        "id": "8zJ9vCBNid2N"
      },
      "source": [
        "The 'qboc' column was added to the end of the dataframe."
      ]
    }
  ],
  "metadata": {
    "colab": {
      "provenance": [],
      "include_colab_link": true
    },
    "kernelspec": {
      "display_name": "Python 3 (ipykernel)",
      "language": "python",
      "name": "python3"
    },
    "language_info": {
      "codemirror_mode": {
        "name": "ipython",
        "version": 3
      },
      "file_extension": ".py",
      "mimetype": "text/x-python",
      "name": "python",
      "nbconvert_exporter": "python",
      "pygments_lexer": "ipython3",
      "version": "3.9.18"
    }
  },
  "nbformat": 4,
  "nbformat_minor": 0
}