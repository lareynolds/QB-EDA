{
 "cells": [
  {
   "cell_type": "markdown",
   "metadata": {
    "colab_type": "text",
    "id": "view-in-github"
   },
   "source": [
    "<a href=\"https://colab.research.google.com/github/lareynolds/QB-EDA/blob/main/Univariate_Analysis.ipynb\" target=\"_parent\"><img src=\"https://colab.research.google.com/assets/colab-badge.svg\" alt=\"Open In Colab\"/></a>"
   ]
  },
  {
   "cell_type": "code",
   "execution_count": 1,
   "metadata": {
    "id": "6q8Q_fbsY3t4"
   },
   "outputs": [
    {
     "ename": "ERROR",
     "evalue": "Error in library(openxlsx, dplyr, tidyverse): object 'tidyverse' not found\n",
     "output_type": "error",
     "traceback": [
      "Error in library(openxlsx, dplyr, tidyverse): object 'tidyverse' not found\nTraceback:\n",
      "1. library(openxlsx, dplyr, tidyverse)"
     ]
    }
   ],
   "source": [
    "library(openxlsx, dplyr, tidyverse)"
   ]
  },
  {
   "cell_type": "code",
   "execution_count": 2,
   "metadata": {},
   "outputs": [],
   "source": [
    "# import and store the dataset\n",
    "qbs = read.xlsx(\"https://myordinaryjourney.com/wp-content/uploads/2023/09/cleaned_qbs.xlsx\")"
   ]
  },
  {
   "cell_type": "code",
   "execution_count": 3,
   "metadata": {},
   "outputs": [
    {
     "name": "stdout",
     "output_type": "stream",
     "text": [
      "             Player Total 2009 2010 2011 2012 2013 2014 2015 2016 2017 2018\n",
      "1          A.Dalton    25    0    0    4    1    1    5    0    1    1    1\n",
      "2            A.Luck    17    0    0    0    5    3    4    1    1    0    3\n",
      "3         A.Rodgers    41    3    3    3    5    2    2    5    4    0    1\n",
      "4           A.Smith    23    1    1    1    1    1    6    4    1    5    2\n",
      "5         B.Bortles    12    0    0    0    0    0    1    2    1    7    1\n",
      "6         B.Gabbert     9    0    0    2    1    0    0    2    1    1    0\n",
      "7           B.Hoyer     6    1    1    0    0    0    1    1    0    1    0\n",
      "8        B.Mayfield    18    0    0    0    0    0    0    0    0    0    3\n",
      "9        B.Osweiler     2    0    0    0    0    0    0    1    0    0    1\n",
      "10 B.Roethlisberger    30    3    0    3    1    1    4    2    1    3    4\n",
      "   2019 2020 2021 2022 2023 Games Per.Game Attempts Per.100.Att Sacked Per.Sack\n",
      "1     6    0    3    2    0   170     0.15     5557        0.45    361    0.069\n",
      "2     0    0    0    0    0    94     0.18     3620        0.47    186    0.091\n",
      "3     3    2    5    3    0   228     0.18     7840        0.52    542    0.076\n",
      "4     0    0    0    0    0   149     0.15     4648        0.49    367    0.063\n",
      "5     0    0    0    0    0    79     0.15     2719        0.44    201    0.060\n",
      "6     0    1    1    0    0    62     0.15     1534        0.59    139    0.065\n",
      "7     1    0    0    0    0    60     0.10     1554        0.39     92    0.065\n",
      "8     4    4    5    2    0    74     0.24     2330        0.77    171    0.105\n",
      "9     0    0    0    0    0    44     0.05     1230        0.16     84    0.024\n",
      "10    0    2    6    0    0   190     0.16     7035        0.43    395    0.076\n",
      "   Sack.Per.Att Third.Down.% qboc\n",
      "1         0.065        40.00    0\n",
      "2         0.051        29.41    0\n",
      "3         0.069        39.02    0\n",
      "4         0.079        26.09    0\n",
      "5         0.074        33.33    0\n",
      "6         0.091        11.11    0\n",
      "7         0.059         0.00    0\n",
      "8         0.073        33.33    0\n",
      "9         0.068         0.00    0\n",
      "10        0.056        20.00    0\n"
     ]
    }
   ],
   "source": [
    "print(head(qbs, n=10))"
   ]
  },
  {
   "cell_type": "markdown",
   "metadata": {},
   "source": [
    "The vaiables I will examin more closely are the total number of Roughing the Passer (RTP) calls per quarterback, the number of RTP calls per year for each quarterback, and the number of RTP calls per games played for their distribution, central tendency, and variance. Again, I will be using R and Jupyter Notebooks."
   ]
  },
  {
   "cell_type": "code",
   "execution_count": 10,
   "metadata": {},
   "outputs": [
    {
     "ename": "ERROR",
     "evalue": "Error in summarize(qbs): could not find function \"summarize\"\n",
     "output_type": "error",
     "traceback": [
      "Error in summarize(qbs): could not find function \"summarize\"\nTraceback:\n"
     ]
    }
   ],
   "source": [
    "table_stats = summarize(qbs)"
   ]
  },
  {
   "cell_type": "code",
   "execution_count": 6,
   "metadata": {},
   "outputs": [
    {
     "data": {
      "text/plain": [
       "   Min. 1st Qu.  Median    Mean 3rd Qu.    Max. \n",
       "   2.00    8.25   15.50   18.09   24.75   57.00 "
      ]
     },
     "metadata": {},
     "output_type": "display_data"
    }
   ],
   "source": []
  },
  {
   "cell_type": "code",
   "execution_count": null,
   "metadata": {},
   "outputs": [],
   "source": []
  }
 ],
 "metadata": {
  "colab": {
   "authorship_tag": "ABX9TyMq6A3T5ezCblVokpIppaNY",
   "include_colab_link": true,
   "provenance": []
  },
  "kernelspec": {
   "display_name": "R",
   "language": "R",
   "name": "ir"
  },
  "language_info": {
   "codemirror_mode": "r",
   "file_extension": ".r",
   "mimetype": "text/x-r-source",
   "name": "R",
   "pygments_lexer": "r",
   "version": "4.1.3"
  }
 },
 "nbformat": 4,
 "nbformat_minor": 4
}
